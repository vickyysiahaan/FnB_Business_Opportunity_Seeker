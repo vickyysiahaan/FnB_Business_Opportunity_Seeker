{
 "cells": [
  {
   "cell_type": "markdown",
   "metadata": {},
   "source": [
    "# FOOD AND BEVERAGE BUSINESS OPPORTUNITY SEEKER\n",
    "\n",
    "This is an independent project centered around data science application in food and beverage industry. "
   ]
  },
  {
   "cell_type": "markdown",
   "metadata": {},
   "source": [
    "## 1. Introduction"
   ]
  },
  {
   "cell_type": "markdown",
   "metadata": {},
   "source": [
    "There is a businessman lives in a capital city of Indonesia, Jakarta. He wants to start a food and beverage business in the city where he is living in, but he doesn't know how to start. Without any experience in this kind of business, he comes to us and tells us about his plan. He hopes that you can help him to make a right decision. As a Data Scientist, you are challenged to support him by giving him best recommendation in order to build a sucessful business.\n",
    "\n",
    "This new businessman has two critical questions here, they are:\n",
    "1. What kind of food and beverage business that he should start?\n",
    "2. Where in the city should he start this business?"
   ]
  },
  {
   "cell_type": "markdown",
   "metadata": {},
   "source": [
    "## 2. Data"
   ]
  },
  {
   "cell_type": "markdown",
   "metadata": {},
   "source": [
    "In order to answer those two questions, as a data scientist, we need to have data that can be used as  "
   ]
  },
  {
   "cell_type": "code",
   "execution_count": null,
   "metadata": {},
   "outputs": [],
   "source": []
  }
 ],
 "metadata": {
  "kernelspec": {
   "display_name": "Python 3",
   "language": "python",
   "name": "python3"
  },
  "language_info": {
   "codemirror_mode": {
    "name": "ipython",
    "version": 3
   },
   "file_extension": ".py",
   "mimetype": "text/x-python",
   "name": "python",
   "nbconvert_exporter": "python",
   "pygments_lexer": "ipython3",
   "version": "3.7.3"
  }
 },
 "nbformat": 4,
 "nbformat_minor": 2
}
